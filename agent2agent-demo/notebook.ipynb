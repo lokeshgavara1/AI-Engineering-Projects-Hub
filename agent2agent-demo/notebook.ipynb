{
 "cells": [
  {
   "cell_type": "code",
   "execution_count": 1,
   "metadata": {},
   "outputs": [
    {
     "name": "stderr",
     "output_type": "stream",
     "text": [
      "'sh' is not recognized as an internal or external command,\n",
      "operable program or batch file.\n",
      "\u001b[2mUsing Python 3.12.7 environment at: C:\\Users\\lokes\\anaconda3\u001b[0m\n",
      "\u001b[2mResolved \u001b[1m58 packages\u001b[0m \u001b[2min 3.83s\u001b[0m\u001b[0m\n",
      "\u001b[2mPrepared \u001b[1m15 packages\u001b[0m \u001b[2min 34.86s\u001b[0m\u001b[0m\n",
      "\u001b[2mUninstalled \u001b[1m1 package\u001b[0m \u001b[2min 3.12s\u001b[0m\u001b[0m\n",
      "\u001b[2mInstalled \u001b[1m15 packages\u001b[0m \u001b[2min 3.05s\u001b[0m\u001b[0m\n",
      " \u001b[32m+\u001b[39m \u001b[1manthropic\u001b[0m\u001b[2m==0.64.0\u001b[0m\n",
      " \u001b[32m+\u001b[39m \u001b[1mboto3\u001b[0m\u001b[2m==1.40.15\u001b[0m\n",
      " \u001b[31m-\u001b[39m \u001b[1mbotocore\u001b[0m\u001b[2m==1.34.69 (from file:///C:/b/abs_0dkeqep0ox/croot/botocore_1714460586193/work)\u001b[0m\n",
      " \u001b[32m+\u001b[39m \u001b[1mbotocore\u001b[0m\u001b[2m==1.40.15\u001b[0m\n",
      " \u001b[32m+\u001b[39m \u001b[1mfastapi\u001b[0m\u001b[2m==0.116.1\u001b[0m\n",
      " \u001b[32m+\u001b[39m \u001b[1mjiter\u001b[0m\u001b[2m==0.10.0\u001b[0m\n",
      " \u001b[32m+\u001b[39m \u001b[1mlangchain\u001b[0m\u001b[2m==0.3.27\u001b[0m\n",
      " \u001b[32m+\u001b[39m \u001b[1mlangchain-core\u001b[0m\u001b[2m==0.3.74\u001b[0m\n",
      " \u001b[32m+\u001b[39m \u001b[1mlangchain-text-splitters\u001b[0m\u001b[2m==0.3.9\u001b[0m\n",
      " \u001b[32m+\u001b[39m \u001b[1mlangsmith\u001b[0m\u001b[2m==0.4.15\u001b[0m\n",
      " \u001b[32m+\u001b[39m \u001b[1mopenai\u001b[0m\u001b[2m==1.101.0\u001b[0m\n",
      " \u001b[32m+\u001b[39m \u001b[1morjson\u001b[0m\u001b[2m==3.11.2\u001b[0m\n",
      " \u001b[32m+\u001b[39m \u001b[1mpython-a2a\u001b[0m\u001b[2m==0.5.9\u001b[0m\n",
      " \u001b[32m+\u001b[39m \u001b[1ms3transfer\u001b[0m\u001b[2m==0.13.1\u001b[0m\n",
      " \u001b[32m+\u001b[39m \u001b[1mstarlette\u001b[0m\u001b[2m==0.47.2\u001b[0m\n",
      " \u001b[32m+\u001b[39m \u001b[1muvicorn\u001b[0m\u001b[2m==0.35.0\u001b[0m\n"
     ]
    }
   ],
   "source": [
    "!curl -LsSf https://astral.sh/uv/install.sh | sh\n",
    "!uv pip install python-a2a"
   ]
  },
  {
   "cell_type": "code",
   "execution_count": 1,
   "metadata": {},
   "outputs": [],
   "source": [
    "# open a terminal and run: python agent1.py\n",
    "# open another terminal and run: python agent2.py\n",
    "# open another terminal and run: python agent3.py\n",
    "\n",
    "# after that, run the following cells"
   ]
  },
  {
   "cell_type": "code",
   "execution_count": 2,
   "metadata": {},
   "outputs": [
    {
     "name": "stderr",
     "output_type": "stream",
     "text": [
      "INFO:python_a2a.client.network:Added agent 'Sine' from URL: http://localhost:4737\n",
      "INFO:python_a2a.client.network:Added agent 'Cosine' from URL: http://localhost:4738\n",
      "INFO:python_a2a.client.network:Added agent 'Tangent' from URL: http://localhost:4739\n"
     ]
    }
   ],
   "source": [
    "from python_a2a import AgentNetwork, A2AClient, AIAgentRouter\n",
    "\n",
    "# Create an agent network\n",
    "network = AgentNetwork(name=\"Math Assistant Network\")\n",
    "\n",
    "# Add agents to the network\n",
    "network.add(\"Sine\", \"http://localhost:4737\")\n",
    "network.add(\"Cosine\", \"http://localhost:4738\")\n",
    "network.add(\"Tangent\", \"http://localhost:4739\")\n",
    "\n",
    "# Create a router to intelligently direct queries to the best agent\n",
    "router = AIAgentRouter(\n",
    "    llm_client=A2AClient(\"http://localhost:5000/openai\"),  # LLM for making routing decisions\n",
    "    agent_network=network\n",
    ")"
   ]
  },
  {
   "cell_type": "code",
   "execution_count": 3,
   "metadata": {},
   "outputs": [
    {
     "name": "stdout",
     "output_type": "stream",
     "text": [
      "Routing to Tangent with 0.50 confidence\n",
      "Response: The tangent of 0.78545 is 1.0001036785795416\n"
     ]
    }
   ],
   "source": [
    "# Route a query to the appropriate agent\n",
    "query = \"Tan of 0.78545\"\n",
    "agent_name, confidence = router.route_query(query)\n",
    "print(f\"Routing to {agent_name} with {confidence:.2f} confidence\")\n",
    "\n",
    "# Get the selected agent and ask the question\n",
    "agent = network.get_agent(agent_name)\n",
    "response = agent.ask(query)\n",
    "print(f\"Response: {response}\")"
   ]
  },
  {
   "cell_type": "code",
   "execution_count": 4,
   "metadata": {},
   "outputs": [
    {
     "name": "stdout",
     "output_type": "stream",
     "text": [
      "Routing to Sine with 0.80 confidence\n",
      "Response: The sine of 3.14159 is 2.65358979335273e-06\n"
     ]
    }
   ],
   "source": [
    "# Route a query to the appropriate agent\n",
    "query = \"Sine of 3.14159\"\n",
    "agent_name, confidence = router.route_query(query)\n",
    "print(f\"Routing to {agent_name} with {confidence:.2f} confidence\")\n",
    "\n",
    "# Get the selected agent and ask the question\n",
    "agent = network.get_agent(agent_name)\n",
    "response = agent.ask(query)\n",
    "print(f\"Response: {response}\")"
   ]
  },
  {
   "cell_type": "code",
   "execution_count": null,
   "metadata": {},
   "outputs": [],
   "source": []
  }
 ],
 "metadata": {
  "kernelspec": {
   "display_name": "Python 3 (ipykernel)",
   "language": "python",
   "name": "python3"
  },
  "language_info": {
   "codemirror_mode": {
    "name": "ipython",
    "version": 3
   },
   "file_extension": ".py",
   "mimetype": "text/x-python",
   "name": "python",
   "nbconvert_exporter": "python",
   "pygments_lexer": "ipython3",
   "version": "3.12.7"
  }
 },
 "nbformat": 4,
 "nbformat_minor": 4
}
